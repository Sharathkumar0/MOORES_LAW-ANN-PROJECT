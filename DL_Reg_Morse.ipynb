{
  "nbformat": 4,
  "nbformat_minor": 0,
  "metadata": {
    "colab": {
      "name": "DL_Reg_Morse.ipynb",
      "provenance": []
    },
    "kernelspec": {
      "name": "python3",
      "display_name": "Python 3"
    },
    "language_info": {
      "name": "python"
    }
  },
  "cells": [
    {
      "cell_type": "code",
      "metadata": {
        "id": "ppau6xJSXUQr"
      },
      "source": [
        "# Import Libraries\n",
        "\n",
        "import tensorflow as tf\n",
        "import pandas as pd\n",
        "import numpy as np\n",
        "import matplotlib.pyplot as plt"
      ],
      "execution_count": 34,
      "outputs": []
    },
    {
      "cell_type": "code",
      "metadata": {
        "id": "T7b7knRllEB-"
      },
      "source": [
        "#Loading data\n",
        "url = \"https://raw.githubusercontent.com/ingledarshan/DL_dataset/master/moore.csv\"\n",
        "data = pd.read_csv(url,header=None).values"
      ],
      "execution_count": 35,
      "outputs": []
    },
    {
      "cell_type": "code",
      "metadata": {
        "id": "ual1TLSolXyz"
      },
      "source": [
        "#Assigning independent and dependent variables\n",
        "x = data[:,0].reshape(-1,1)\n",
        "y = data[:,1]"
      ],
      "execution_count": 36,
      "outputs": []
    },
    {
      "cell_type": "code",
      "metadata": {
        "colab": {
          "base_uri": "https://localhost:8080/",
          "height": 293
        },
        "id": "9E4xSCtWqAF3",
        "outputId": "8f05dc94-fb45-41f9-9b08-5348063a3b34"
      },
      "source": [
        "# Data is in exponential in nature\n",
        "plt.scatter(x,y)"
      ],
      "execution_count": 37,
      "outputs": [
        {
          "output_type": "execute_result",
          "data": {
            "text/plain": [
              "<matplotlib.collections.PathCollection at 0x7f6c46e42950>"
            ]
          },
          "metadata": {},
          "execution_count": 37
        },
        {
          "output_type": "display_data",
          "data": {
            "image/png": "[encoded data removed]",
            "text/plain": [
              "<Figure size 432x288 with 1 Axes>"
            ]
          },
          "metadata": {
            "needs_background": "light"
          }
        }
      ]
    },
    {
      "cell_type": "code",
      "metadata": {
        "colab": {
          "base_uri": "https://localhost:8080/",
          "height": 282
        },
        "id": "uWsEA1YRqzXA",
        "outputId": "a072f102-5bc5-4e53-8b8b-dd3392b99f56"
      },
      "source": [
        "#Forcely converting into linear for better analysis in Linear Regression\n",
        "y = np.log(y)\n",
        "plt.scatter(x,y)"
      ],
      "execution_count": 38,
      "outputs": [
        {
          "output_type": "execute_result",
          "data": {
            "text/plain": [
              "<matplotlib.collections.PathCollection at 0x7f6c46c8ba50>"
            ]
          },
          "metadata": {},
          "execution_count": 38
        },
        {
          "output_type": "display_data",
          "data": {
            "image/png": "[encoded data removed]",
            "text/plain": [
              "<Figure size 432x288 with 1 Axes>"
            ]
          },
          "metadata": {
            "needs_background": "light"
          }
        }
      ]
    },
    {
      "cell_type": "code",
      "metadata": {
        "id": "QN_LeM62uYZn"
      },
      "source": [
        "#Scaling the x values\n",
        "X = x - x.mean()"
      ],
      "execution_count": 46,
      "outputs": []
    },
    {
      "cell_type": "code",
      "metadata": {
        "id": "-O55q14IuywM"
      },
      "source": [
        "# Building model\n",
        "model = tf.keras.models.Sequential()\n",
        "model.add(tf.keras.layers.Dense(1,input_shape=(1,)))"
      ],
      "execution_count": 47,
      "outputs": []
    },
    {
      "cell_type": "code",
      "metadata": {
        "id": "1Z5CcKfWw0jz"
      },
      "source": [
        "#Lets call model.compile\n",
        "model.compile(optimizer=tf.keras.optimizers.SGD(0.001,0.9),loss='mse')"
      ],
      "execution_count": 48,
      "outputs": []
    },
    {
      "cell_type": "code",
      "metadata": {
        "id": "vsWmFT5wxpht"
      },
      "source": [
        "#Learning Rate Scheduler\n",
        "\n",
        "def schedule(epoch,lr):\n",
        "  if epoch >= 50:\n",
        "    return 0.0001\n",
        "  return 0.001\n",
        "\n",
        "scheduler = tf.keras.callbacks.LearningRateScheduler(schedule)"
      ],
      "execution_count": 49,
      "outputs": []
    },
    {
      "cell_type": "code",
      "metadata": {
        "id": "mbtZ4nD5UdOF"
      },
      "source": [
        "# Train the model\n",
        "r = model.fit(X,y,epochs=200,callbacks=[scheduler])"
      ],
      "execution_count": null,
      "outputs": []
    },
    {
      "cell_type": "code",
      "metadata": {
        "colab": {
          "base_uri": "https://localhost:8080/",
          "height": 296
        },
        "id": "8V1YweSjUz6y",
        "outputId": "e7fe6e8d-29ac-43f7-b2e4-778ca9e61217"
      },
      "source": [
        "#Plot the loss\n",
        "plt.plot(r.history['loss'],label='Loss')\n",
        "plt.xlabel('Epochs')\n",
        "plt.ylabel('Loss')"
      ],
      "execution_count": 67,
      "outputs": [
        {
          "output_type": "execute_result",
          "data": {
            "text/plain": [
              "Text(0, 0.5, 'Loss')"
            ]
          },
          "metadata": {},
          "execution_count": 67
        },
        {
          "output_type": "display_data",
          "data": {
            "image/png": "[encoded data removed]",
            "text/plain": [
              "<Figure size 432x288 with 1 Axes>"
            ]
          },
          "metadata": {
            "needs_background": "light"
          }
        }
      ]
    },
    {
      "cell_type": "code",
      "metadata": {
        "colab": {
          "base_uri": "https://localhost:8080/"
        },
        "id": "wh2Ef7OAVkWq",
        "outputId": "009aa703-906c-405c-c1bd-06cb27180126"
      },
      "source": [
        "# Now lets gets the trained weights of the model\n",
        "\n",
        "weight = model.layers[0].get_weights()[0][0,0]\n",
        "weight"
      ],
      "execution_count": 52,
      "outputs": [
        {
          "output_type": "execute_result",
          "data": {
            "text/plain": [
              "0.33776695"
            ]
          },
          "metadata": {},
          "execution_count": 52
        }
      ]
    },
    {
      "cell_type": "code",
      "metadata": {
        "colab": {
          "base_uri": "https://localhost:8080/"
        },
        "id": "NfShPfvPYu14",
        "outputId": "d43fa746-5284-4309-c252-18e28da5fe7d"
      },
      "source": [
        "print(\"Time to Double :\",int(np.round((np.log(2)/weight))))"
      ],
      "execution_count": 60,
      "outputs": [
        {
          "output_type": "stream",
          "name": "stdout",
          "text": [
            "Time to Double : 2\n"
          ]
        }
      ]
    },
    {
      "cell_type": "code",
      "metadata": {
        "colab": {
          "base_uri": "https://localhost:8080/"
        },
        "id": "kWCi_bIuZnXb",
        "outputId": "f78f1512-d082-4ec6-b68b-559b3df842c7"
      },
      "source": [
        "# Make  Predictions\n",
        "\n",
        "Yhat = model.predict(X).flatten()"
      ],
      "execution_count": 65,
      "outputs": [
        {
          "output_type": "execute_result",
          "data": {
            "text/plain": [
              "(162,)"
            ]
          },
          "metadata": {},
          "execution_count": 65
        }
      ]
    },
    {
      "cell_type": "code",
      "metadata": {
        "colab": {
          "base_uri": "https://localhost:8080/",
          "height": 282
        },
        "id": "LfaqX_f5aaRo",
        "outputId": "615269ec-93c4-4e56-f788-2b8477a1d9b6"
      },
      "source": [
        "# Checking the LOBF\n",
        "plt.scatter(X,y)\n",
        "plt.plot(X,Yhat)"
      ],
      "execution_count": 66,
      "outputs": [
        {
          "output_type": "execute_result",
          "data": {
            "text/plain": [
              "[<matplotlib.lines.Line2D at 0x7f6c46b00c90>]"
            ]
          },
          "metadata": {},
          "execution_count": 66
        },
        {
          "output_type": "display_data",
          "data": {
            "image/png": "[encoded data removed]",
            "text/plain": [
              "<Figure size 432x288 with 1 Axes>"
            ]
          },
          "metadata": {
            "needs_background": "light"
          }
        }
      ]
    }
  ]
}